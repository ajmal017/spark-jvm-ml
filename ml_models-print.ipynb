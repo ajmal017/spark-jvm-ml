{
 "cells": [
  {
   "cell_type": "code",
   "execution_count": 1,
   "metadata": {
    "collapsed": true
   },
   "outputs": [],
   "source": [
    "import numpy as np\n",
    "import pandas as pd\n",
    "\n",
    "from sklearn.feature_selection import SelectFromModel\n",
    "from sklearn.model_selection import train_test_split\n",
    "from sklearn import preprocessing\n",
    "\n",
    "from sklearn.linear_model import Lasso\n",
    "from sklearn.ensemble import RandomForestRegressor\n",
    "from sklearn.linear_model import LinearRegression\n",
    "\n",
    "from sklearn.metrics import mean_squared_error\n",
    "\n",
    "import matplotlib.pyplot as plt"
   ]
  },
  {
   "cell_type": "markdown",
   "metadata": {},
   "source": [
    "### Process CSV files into Dataframe"
   ]
  },
  {
   "cell_type": "code",
   "execution_count": 2,
   "metadata": {},
   "outputs": [],
   "source": [
    "dat_2og = pd.read_csv(\"data/out2core.csv\", header=0, usecols=range(1,6))"
   ]
  },
  {
   "cell_type": "markdown",
   "metadata": {},
   "source": [
    "Need to add results from queries 7-9 for 2 cores"
   ]
  },
  {
   "cell_type": "code",
   "execution_count": 3,
   "metadata": {
    "collapsed": true
   },
   "outputs": [],
   "source": [
    "dat_2ogp2 = pd.read_csv(\"data/out_2core_part2.csv\", header=0)\n",
    "\n",
    "dat_2ohp2 = pd.read_csv(\"data/out_onehot_2core_part2.csv\", header=0).drop(\"Unnamed: 0\", axis=1)\n",
    "dat_2ohp2[\"num_cores\"] = 2\n",
    "dat_2ohp2[\"time\"] = dat_2ogp2.runtime\n",
    "\n",
    "# need to remove the rows where executor-memory > 4\n",
    "dat_2ohp2 = dat_2ohp2.loc[dat_2ohp2['executor-memory'] <= 4]\n",
    "dat_2ohp2 = dat_2ohp2.loc[dat_2ohp2['driver-memory'] <= 4]"
   ]
  },
  {
   "cell_type": "code",
   "execution_count": 4,
   "metadata": {
    "collapsed": true
   },
   "outputs": [],
   "source": [
    "dat_2oh = pd.read_csv(\"data/out_onehot2core.csv\", header=0).drop(\"Unnamed: 0\", axis=1)\n",
    "dat_2oh[\"num_cores\"] = 2\n",
    "dat_2oh[\"time\"] = dat_2og.runtime"
   ]
  },
  {
   "cell_type": "code",
   "execution_count": 5,
   "metadata": {},
   "outputs": [],
   "source": [
    "dat_2 = dat_2oh.merge(dat_2ohp2, how='outer')\n",
    "dat_2 = dat_2.fillna(0)"
   ]
  },
  {
   "cell_type": "markdown",
   "metadata": {},
   "source": [
    "Adding rows when 4 cores were used."
   ]
  },
  {
   "cell_type": "code",
   "execution_count": 6,
   "metadata": {},
   "outputs": [],
   "source": [
    "dat_4og = pd.read_csv(\"data/out4core.csv\", header=0)\n",
    "dat_4 = pd.read_csv(\"data/out_onehot4core.csv\", header=0).drop(\"Unnamed: 0\", axis=1)\n",
    "\n",
    "dat_4[\"num_cores\"] = 4\n",
    "dat_4[\"time\"] = dat_4og.runtime"
   ]
  },
  {
   "cell_type": "markdown",
   "metadata": {},
   "source": [
    "**Need to remove one column from each categorical to make it not perfectly linear. Removing GC-Alg-G1C1 and keeping all query columns.**"
   ]
  },
  {
   "cell_type": "code",
   "execution_count": 7,
   "metadata": {},
   "outputs": [
    {
     "data": {
      "text/html": [
       "<div>\n",
       "<style scoped>\n",
       "    .dataframe tbody tr th:only-of-type {\n",
       "        vertical-align: middle;\n",
       "    }\n",
       "\n",
       "    .dataframe tbody tr th {\n",
       "        vertical-align: top;\n",
       "    }\n",
       "\n",
       "    .dataframe thead th {\n",
       "        text-align: right;\n",
       "    }\n",
       "</style>\n",
       "<table border=\"1\" class=\"dataframe\">\n",
       "  <thead>\n",
       "    <tr style=\"text-align: right;\">\n",
       "      <th></th>\n",
       "      <th>driver-memory</th>\n",
       "      <th>executor-memory</th>\n",
       "      <th>num_cores</th>\n",
       "      <th>q_01</th>\n",
       "      <th>q_02</th>\n",
       "      <th>q_03</th>\n",
       "      <th>q_04</th>\n",
       "      <th>q_05</th>\n",
       "      <th>q_06</th>\n",
       "      <th>q_07</th>\n",
       "      <th>q_08</th>\n",
       "      <th>q_09</th>\n",
       "      <th>gc-alg-parallel</th>\n",
       "      <th>time</th>\n",
       "    </tr>\n",
       "  </thead>\n",
       "  <tbody>\n",
       "    <tr>\n",
       "      <th>0</th>\n",
       "      <td>3</td>\n",
       "      <td>2</td>\n",
       "      <td>2</td>\n",
       "      <td>0.0</td>\n",
       "      <td>1.0</td>\n",
       "      <td>0.0</td>\n",
       "      <td>0.0</td>\n",
       "      <td>0.0</td>\n",
       "      <td>0.0</td>\n",
       "      <td>0.0</td>\n",
       "      <td>0.0</td>\n",
       "      <td>0.0</td>\n",
       "      <td>1</td>\n",
       "      <td>34.645</td>\n",
       "    </tr>\n",
       "    <tr>\n",
       "      <th>1</th>\n",
       "      <td>2</td>\n",
       "      <td>2</td>\n",
       "      <td>2</td>\n",
       "      <td>0.0</td>\n",
       "      <td>0.0</td>\n",
       "      <td>0.0</td>\n",
       "      <td>0.0</td>\n",
       "      <td>1.0</td>\n",
       "      <td>0.0</td>\n",
       "      <td>0.0</td>\n",
       "      <td>0.0</td>\n",
       "      <td>0.0</td>\n",
       "      <td>1</td>\n",
       "      <td>40.037</td>\n",
       "    </tr>\n",
       "    <tr>\n",
       "      <th>2</th>\n",
       "      <td>2</td>\n",
       "      <td>4</td>\n",
       "      <td>2</td>\n",
       "      <td>1.0</td>\n",
       "      <td>0.0</td>\n",
       "      <td>0.0</td>\n",
       "      <td>0.0</td>\n",
       "      <td>0.0</td>\n",
       "      <td>0.0</td>\n",
       "      <td>0.0</td>\n",
       "      <td>0.0</td>\n",
       "      <td>0.0</td>\n",
       "      <td>1</td>\n",
       "      <td>32.401</td>\n",
       "    </tr>\n",
       "    <tr>\n",
       "      <th>3</th>\n",
       "      <td>4</td>\n",
       "      <td>4</td>\n",
       "      <td>2</td>\n",
       "      <td>0.0</td>\n",
       "      <td>0.0</td>\n",
       "      <td>0.0</td>\n",
       "      <td>0.0</td>\n",
       "      <td>1.0</td>\n",
       "      <td>0.0</td>\n",
       "      <td>0.0</td>\n",
       "      <td>0.0</td>\n",
       "      <td>0.0</td>\n",
       "      <td>1</td>\n",
       "      <td>40.747</td>\n",
       "    </tr>\n",
       "    <tr>\n",
       "      <th>4</th>\n",
       "      <td>3</td>\n",
       "      <td>4</td>\n",
       "      <td>2</td>\n",
       "      <td>0.0</td>\n",
       "      <td>1.0</td>\n",
       "      <td>0.0</td>\n",
       "      <td>0.0</td>\n",
       "      <td>0.0</td>\n",
       "      <td>0.0</td>\n",
       "      <td>0.0</td>\n",
       "      <td>0.0</td>\n",
       "      <td>0.0</td>\n",
       "      <td>0</td>\n",
       "      <td>34.123</td>\n",
       "    </tr>\n",
       "  </tbody>\n",
       "</table>\n",
       "</div>"
      ],
      "text/plain": [
       "   driver-memory  executor-memory  num_cores  q_01  q_02  q_03  q_04  q_05  \\\n",
       "0              3                2          2   0.0   1.0   0.0   0.0   0.0   \n",
       "1              2                2          2   0.0   0.0   0.0   0.0   1.0   \n",
       "2              2                4          2   1.0   0.0   0.0   0.0   0.0   \n",
       "3              4                4          2   0.0   0.0   0.0   0.0   1.0   \n",
       "4              3                4          2   0.0   1.0   0.0   0.0   0.0   \n",
       "\n",
       "   q_06  q_07  q_08  q_09  gc-alg-parallel    time  \n",
       "0   0.0   0.0   0.0   0.0                1  34.645  \n",
       "1   0.0   0.0   0.0   0.0                1  40.037  \n",
       "2   0.0   0.0   0.0   0.0                1  32.401  \n",
       "3   0.0   0.0   0.0   0.0                1  40.747  \n",
       "4   0.0   0.0   0.0   0.0                0  34.123  "
      ]
     },
     "execution_count": 7,
     "metadata": {},
     "output_type": "execute_result"
    }
   ],
   "source": [
    "include2 = [0, 1, 2, 3, 4, 5, 6, 7, 9, 10, 11, 12, 13, 14]\n",
    "include4 = [0, 1, 2, 3, 4, 5, 6, 7, 8, 9, 10, 12, 13, 14]\n",
    "temp_2 = dat_2.iloc[:,include2]\n",
    "temp_4 = dat_4.iloc[:,include4]\n",
    "all_df = pd.concat([temp_2, temp_4])\n",
    "columns = [\"driver-memory\", \"executor-memory\", \"num_cores\", \"q_01\", \"q_02\", \"q_03\", \"q_04\", \"q_05\", \"q_06\", \"q_07\", \"q_08\", \"q_09\", \"gc-alg-parallel\", \"time\"]\n",
    "all_df.columns = columns\n",
    "all_df.head()"
   ]
  },
  {
   "cell_type": "markdown",
   "metadata": {},
   "source": [
    "### Visualization"
   ]
  },
  {
   "cell_type": "code",
   "execution_count": 8,
   "metadata": {},
   "outputs": [
    {
     "data": {
      "image/png": "[encoded data removed]",
      "text/plain": [
       "<matplotlib.figure.Figure at 0x229246066a0>"
      ]
     },
     "metadata": {},
     "output_type": "display_data"
    }
   ],
   "source": [
    "correlations = all_df.corr()\n",
    "# plot correlation matrix\n",
    "fig = plt.figure()\n",
    "ax = fig.add_subplot(111)\n",
    "cax = ax.matshow(correlations, vmin=-1, vmax=1)\n",
    "fig.colorbar(cax)\n",
    "ticks = np.arange(0,14,1)\n",
    "ax.set_xticks(ticks)\n",
    "ax.set_yticks(ticks)\n",
    "ax.set_yticklabels(columns)\n",
    "ax.set_xticklabels(columns)\n",
    "plt.xticks(rotation=90)\n",
    "plt.savefig(\"corr_all.jpg\")\n",
    "plt.show()"
   ]
  },
  {
   "cell_type": "code",
   "execution_count": 9,
   "metadata": {},
   "outputs": [
    {
     "data": {
      "image/png": "[encoded data removed]",
      "text/plain": [
       "<matplotlib.figure.Figure at 0x2292493c8d0>"
      ]
     },
     "metadata": {},
     "output_type": "display_data"
    }
   ],
   "source": [
    "all_df.time.hist()\n",
    "plt.title(\"Distribution of Runtime\")\n",
    "plt.savefig(\"time_hist_all.jpg\")\n",
    "plt.show()"
   ]
  },
  {
   "cell_type": "code",
   "execution_count": 10,
   "metadata": {
    "scrolled": true
   },
   "outputs": [
    {
     "data": {
      "text/html": [
       "<div>\n",
       "<style scoped>\n",
       "    .dataframe tbody tr th:only-of-type {\n",
       "        vertical-align: middle;\n",
       "    }\n",
       "\n",
       "    .dataframe tbody tr th {\n",
       "        vertical-align: top;\n",
       "    }\n",
       "\n",
       "    .dataframe thead th {\n",
       "        text-align: right;\n",
       "    }\n",
       "</style>\n",
       "<table border=\"1\" class=\"dataframe\">\n",
       "  <thead>\n",
       "    <tr style=\"text-align: right;\">\n",
       "      <th></th>\n",
       "      <th>driver-memory</th>\n",
       "      <th>executor-memory</th>\n",
       "      <th>num_cores</th>\n",
       "      <th>q_01</th>\n",
       "      <th>q_02</th>\n",
       "      <th>q_03</th>\n",
       "      <th>q_04</th>\n",
       "      <th>q_05</th>\n",
       "      <th>q_06</th>\n",
       "      <th>q_07</th>\n",
       "      <th>q_08</th>\n",
       "      <th>q_09</th>\n",
       "      <th>gc-alg-parallel</th>\n",
       "      <th>time</th>\n",
       "    </tr>\n",
       "  </thead>\n",
       "  <tbody>\n",
       "    <tr>\n",
       "      <th>16</th>\n",
       "      <td>4</td>\n",
       "      <td>3</td>\n",
       "      <td>2</td>\n",
       "      <td>0.0</td>\n",
       "      <td>0.0</td>\n",
       "      <td>0.0</td>\n",
       "      <td>1.0</td>\n",
       "      <td>0.0</td>\n",
       "      <td>0.0</td>\n",
       "      <td>0.0</td>\n",
       "      <td>0.0</td>\n",
       "      <td>0.0</td>\n",
       "      <td>0</td>\n",
       "      <td>94.571</td>\n",
       "    </tr>\n",
       "    <tr>\n",
       "      <th>27</th>\n",
       "      <td>2</td>\n",
       "      <td>4</td>\n",
       "      <td>2</td>\n",
       "      <td>0.0</td>\n",
       "      <td>0.0</td>\n",
       "      <td>0.0</td>\n",
       "      <td>1.0</td>\n",
       "      <td>0.0</td>\n",
       "      <td>0.0</td>\n",
       "      <td>0.0</td>\n",
       "      <td>0.0</td>\n",
       "      <td>0.0</td>\n",
       "      <td>1</td>\n",
       "      <td>90.965</td>\n",
       "    </tr>\n",
       "    <tr>\n",
       "      <th>29</th>\n",
       "      <td>3</td>\n",
       "      <td>3</td>\n",
       "      <td>2</td>\n",
       "      <td>0.0</td>\n",
       "      <td>0.0</td>\n",
       "      <td>0.0</td>\n",
       "      <td>1.0</td>\n",
       "      <td>0.0</td>\n",
       "      <td>0.0</td>\n",
       "      <td>0.0</td>\n",
       "      <td>0.0</td>\n",
       "      <td>0.0</td>\n",
       "      <td>0</td>\n",
       "      <td>90.358</td>\n",
       "    </tr>\n",
       "    <tr>\n",
       "      <th>32</th>\n",
       "      <td>4</td>\n",
       "      <td>4</td>\n",
       "      <td>2</td>\n",
       "      <td>0.0</td>\n",
       "      <td>0.0</td>\n",
       "      <td>0.0</td>\n",
       "      <td>1.0</td>\n",
       "      <td>0.0</td>\n",
       "      <td>0.0</td>\n",
       "      <td>0.0</td>\n",
       "      <td>0.0</td>\n",
       "      <td>0.0</td>\n",
       "      <td>0</td>\n",
       "      <td>92.570</td>\n",
       "    </tr>\n",
       "    <tr>\n",
       "      <th>39</th>\n",
       "      <td>2</td>\n",
       "      <td>3</td>\n",
       "      <td>2</td>\n",
       "      <td>0.0</td>\n",
       "      <td>0.0</td>\n",
       "      <td>0.0</td>\n",
       "      <td>1.0</td>\n",
       "      <td>0.0</td>\n",
       "      <td>0.0</td>\n",
       "      <td>0.0</td>\n",
       "      <td>0.0</td>\n",
       "      <td>0.0</td>\n",
       "      <td>0</td>\n",
       "      <td>90.456</td>\n",
       "    </tr>\n",
       "  </tbody>\n",
       "</table>\n",
       "</div>"
      ],
      "text/plain": [
       "    driver-memory  executor-memory  num_cores  q_01  q_02  q_03  q_04  q_05  \\\n",
       "16              4                3          2   0.0   0.0   0.0   1.0   0.0   \n",
       "27              2                4          2   0.0   0.0   0.0   1.0   0.0   \n",
       "29              3                3          2   0.0   0.0   0.0   1.0   0.0   \n",
       "32              4                4          2   0.0   0.0   0.0   1.0   0.0   \n",
       "39              2                3          2   0.0   0.0   0.0   1.0   0.0   \n",
       "\n",
       "    q_06  q_07  q_08  q_09  gc-alg-parallel    time  \n",
       "16   0.0   0.0   0.0   0.0                0  94.571  \n",
       "27   0.0   0.0   0.0   0.0                1  90.965  \n",
       "29   0.0   0.0   0.0   0.0                0  90.358  \n",
       "32   0.0   0.0   0.0   0.0                0  92.570  \n",
       "39   0.0   0.0   0.0   0.0                0  90.456  "
      ]
     },
     "execution_count": 10,
     "metadata": {},
     "output_type": "execute_result"
    }
   ],
   "source": [
    "all_df.loc[all_df.time > 70].head() # all query #4!!!"
   ]
  },
  {
   "cell_type": "code",
   "execution_count": 11,
   "metadata": {},
   "outputs": [
    {
     "data": {
      "image/png": "[encoded data removed]",
      "text/plain": [
       "<matplotlib.figure.Figure at 0x229245bac50>"
      ]
     },
     "metadata": {},
     "output_type": "display_data"
    }
   ],
   "source": [
    "df_no4 = all_df.loc[all_df.q_04 == 0]\n",
    "df_no4 = df_no4.drop(\"q_04\", axis=1)\n",
    "\n",
    "df_no4.time.hist()\n",
    "plt.title(\"Distribution of Runtime -- No Query 4\")\n",
    "plt.savefig(\"time_hist_no4.jpg\")\n",
    "plt.show()"
   ]
  },
  {
   "cell_type": "code",
   "execution_count": 12,
   "metadata": {},
   "outputs": [
    {
     "data": {
      "image/png": "[encoded data removed]",
      "text/plain": [
       "<matplotlib.figure.Figure at 0x22924b2aeb8>"
      ]
     },
     "metadata": {},
     "output_type": "display_data"
    }
   ],
   "source": [
    "correlations = df_no4.corr()\n",
    "# plot correlation matrix\n",
    "fig = plt.figure()\n",
    "ax = fig.add_subplot(111)\n",
    "cax = ax.matshow(correlations, vmin=-1, vmax=1)\n",
    "fig.colorbar(cax)\n",
    "ticks = np.arange(0,14,1)\n",
    "ax.set_xticks(ticks)\n",
    "ax.set_yticks(ticks)\n",
    "ax.set_yticklabels(df_no4.columns)\n",
    "ax.set_xticklabels(df_no4.columns)\n",
    "plt.xticks(rotation=90)\n",
    "plt.savefig(\"corr_no4.jpg\")\n",
    "plt.show()"
   ]
  },
  {
   "cell_type": "markdown",
   "metadata": {},
   "source": [
    "Decide to keep query 4 just so we can have more data. Throwing interpretation out the window (for now)."
   ]
  },
  {
   "cell_type": "markdown",
   "metadata": {},
   "source": [
    "#### Split Train and Test"
   ]
  },
  {
   "cell_type": "code",
   "execution_count": 13,
   "metadata": {
    "collapsed": true
   },
   "outputs": [],
   "source": [
    "rs = np.random.RandomState(seed=1)\n",
    "df = all_df\n",
    "X = df.iloc[:,:-1]\n",
    "y = df['time']\n",
    "\n",
    "X_train, X_test, y_train, y_test = train_test_split(X, y, test_size=0.20, random_state=rs, ) # 80/20 split!"
   ]
  },
  {
   "cell_type": "markdown",
   "metadata": {},
   "source": [
    "## Linear Regression"
   ]
  },
  {
   "cell_type": "code",
   "execution_count": 14,
   "metadata": {},
   "outputs": [
    {
     "name": "stdout",
     "output_type": "stream",
     "text": [
      "0.9903203171438915\n"
     ]
    },
    {
     "data": {
      "text/plain": [
       "3.6726905129961556"
      ]
     },
     "execution_count": 14,
     "metadata": {},
     "output_type": "execute_result"
    }
   ],
   "source": [
    "# fitting intercept = False because included all query columns!\n",
    "reg = LinearRegression(fit_intercept=False).fit(X_train, y_train)\n",
    "print(reg.score(X_train, y_train))\n",
    "y_pred_reg = reg.predict(X_test)\n",
    "mean_squared_error(y_test, y_pred_reg)"
   ]
  },
  {
   "cell_type": "code",
   "execution_count": 15,
   "metadata": {},
   "outputs": [
    {
     "data": {
      "text/html": [
       "<div>\n",
       "<style scoped>\n",
       "    .dataframe tbody tr th:only-of-type {\n",
       "        vertical-align: middle;\n",
       "    }\n",
       "\n",
       "    .dataframe tbody tr th {\n",
       "        vertical-align: top;\n",
       "    }\n",
       "\n",
       "    .dataframe thead th {\n",
       "        text-align: right;\n",
       "    }\n",
       "</style>\n",
       "<table border=\"1\" class=\"dataframe\">\n",
       "  <thead>\n",
       "    <tr style=\"text-align: right;\">\n",
       "      <th></th>\n",
       "      <th>driver-memory</th>\n",
       "      <th>executor-memory</th>\n",
       "      <th>num_cores</th>\n",
       "      <th>q_01</th>\n",
       "      <th>q_02</th>\n",
       "      <th>q_03</th>\n",
       "      <th>q_04</th>\n",
       "      <th>q_05</th>\n",
       "      <th>q_06</th>\n",
       "      <th>q_07</th>\n",
       "      <th>q_08</th>\n",
       "      <th>q_09</th>\n",
       "      <th>gc-alg-parallel</th>\n",
       "    </tr>\n",
       "  </thead>\n",
       "  <tbody>\n",
       "    <tr>\n",
       "      <th>0</th>\n",
       "      <td>0.279131</td>\n",
       "      <td>0.015952</td>\n",
       "      <td>-0.07942</td>\n",
       "      <td>33.042593</td>\n",
       "      <td>33.66528</td>\n",
       "      <td>19.367797</td>\n",
       "      <td>86.207029</td>\n",
       "      <td>40.631488</td>\n",
       "      <td>46.138783</td>\n",
       "      <td>22.612985</td>\n",
       "      <td>31.849557</td>\n",
       "      <td>23.523837</td>\n",
       "      <td>0.010464</td>\n",
       "    </tr>\n",
       "  </tbody>\n",
       "</table>\n",
       "</div>"
      ],
      "text/plain": [
       "   driver-memory  executor-memory  num_cores       q_01      q_02       q_03  \\\n",
       "0       0.279131         0.015952   -0.07942  33.042593  33.66528  19.367797   \n",
       "\n",
       "        q_04       q_05       q_06       q_07       q_08       q_09  \\\n",
       "0  86.207029  40.631488  46.138783  22.612985  31.849557  23.523837   \n",
       "\n",
       "   gc-alg-parallel  \n",
       "0         0.010464  "
      ]
     },
     "execution_count": 15,
     "metadata": {},
     "output_type": "execute_result"
    }
   ],
   "source": [
    "c = pd.DataFrame(reg.coef_)\n",
    "c = c.T\n",
    "c.columns = X_train.columns\n",
    "c"
   ]
  },
  {
   "cell_type": "markdown",
   "metadata": {},
   "source": [
    "_These numbers actually don't mean anything since we violated the Linear Regression assumptions! But will still include them for funsies_"
   ]
  },
  {
   "cell_type": "markdown",
   "metadata": {},
   "source": [
    "## LASSO"
   ]
  },
  {
   "cell_type": "code",
   "execution_count": 16,
   "metadata": {},
   "outputs": [
    {
     "name": "stdout",
     "output_type": "stream",
     "text": [
      "0.9882951682868825\n",
      "[  0.06885554  -0.          -0.           0.           0.\n",
      " -12.67386232  52.37640067   6.74793478  12.38685043  -9.40593854\n",
      "  -0.07339784  -8.46671642   0.        ]\n"
     ]
    },
    {
     "data": {
      "text/plain": [
       "4.118033893770906"
      ]
     },
     "execution_count": 16,
     "metadata": {},
     "output_type": "execute_result"
    }
   ],
   "source": [
    "lasso = Lasso(random_state=rs, alpha=0.1).fit(X_train, y_train)\n",
    "print(lasso.score(X_train, y_train))\n",
    "print(lasso.coef_)\n",
    "print\n",
    "y_pred_lasso = lasso.predict(X_test)\n",
    "mean_squared_error(y_test, y_pred_lasso)"
   ]
  },
  {
   "cell_type": "markdown",
   "metadata": {},
   "source": [
    "## Random Forest"
   ]
  },
  {
   "cell_type": "code",
   "execution_count": 17,
   "metadata": {},
   "outputs": [
    {
     "name": "stderr",
     "output_type": "stream",
     "text": [
      "C:\\Users\\Cindy\\Anaconda3\\lib\\site-packages\\sklearn\\ensemble\\forest.py:246: FutureWarning: The default value of n_estimators will change from 10 in version 0.20 to 100 in 0.22.\n",
      "  \"10 in version 0.20 to 100 in 0.22.\", FutureWarning)\n"
     ]
    },
    {
     "data": {
      "text/html": [
       "<div>\n",
       "<style scoped>\n",
       "    .dataframe tbody tr th:only-of-type {\n",
       "        vertical-align: middle;\n",
       "    }\n",
       "\n",
       "    .dataframe tbody tr th {\n",
       "        vertical-align: top;\n",
       "    }\n",
       "\n",
       "    .dataframe thead th {\n",
       "        text-align: right;\n",
       "    }\n",
       "</style>\n",
       "<table border=\"1\" class=\"dataframe\">\n",
       "  <thead>\n",
       "    <tr style=\"text-align: right;\">\n",
       "      <th></th>\n",
       "      <th>driver-memory</th>\n",
       "      <th>executor-memory</th>\n",
       "      <th>num_cores</th>\n",
       "      <th>q_01</th>\n",
       "      <th>q_02</th>\n",
       "      <th>q_03</th>\n",
       "      <th>q_04</th>\n",
       "      <th>q_05</th>\n",
       "      <th>q_06</th>\n",
       "      <th>q_07</th>\n",
       "      <th>q_08</th>\n",
       "      <th>q_09</th>\n",
       "      <th>gc-alg-parallel</th>\n",
       "    </tr>\n",
       "  </thead>\n",
       "  <tbody>\n",
       "    <tr>\n",
       "      <th>0</th>\n",
       "      <td>0.001039</td>\n",
       "      <td>0.000994</td>\n",
       "      <td>0.00689</td>\n",
       "      <td>0.002353</td>\n",
       "      <td>0.001994</td>\n",
       "      <td>0.020318</td>\n",
       "      <td>0.792049</td>\n",
       "      <td>0.046617</td>\n",
       "      <td>0.090907</td>\n",
       "      <td>0.016934</td>\n",
       "      <td>0.001974</td>\n",
       "      <td>0.017525</td>\n",
       "      <td>0.000406</td>\n",
       "    </tr>\n",
       "  </tbody>\n",
       "</table>\n",
       "</div>"
      ],
      "text/plain": [
       "   driver-memory  executor-memory  num_cores      q_01      q_02      q_03  \\\n",
       "0       0.001039         0.000994    0.00689  0.002353  0.001994  0.020318   \n",
       "\n",
       "       q_04      q_05      q_06      q_07      q_08      q_09  gc-alg-parallel  \n",
       "0  0.792049  0.046617  0.090907  0.016934  0.001974  0.017525         0.000406  "
      ]
     },
     "execution_count": 17,
     "metadata": {},
     "output_type": "execute_result"
    }
   ],
   "source": [
    "# https://scikit-learn.org/stable/modules/generated/sklearn.ensemble.RandomForestRegressor.html\n",
    "rf = RandomForestRegressor(random_state=rs)\n",
    "rf.fit(X_train, y_train)\n",
    "\n",
    "s = pd.DataFrame((rf.feature_importances_))\n",
    "s = s.T\n",
    "s.columns = X_train.columns\n",
    "\n",
    "s"
   ]
  },
  {
   "cell_type": "code",
   "execution_count": 18,
   "metadata": {
    "scrolled": true
   },
   "outputs": [
    {
     "data": {
      "text/plain": [
       "1.1525327969072157"
      ]
     },
     "execution_count": 18,
     "metadata": {},
     "output_type": "execute_result"
    }
   ],
   "source": [
    "y_pred_rf = rf.predict(X_test)\n",
    "mean_squared_error(y_test, y_pred_rf)"
   ]
  },
  {
   "cell_type": "markdown",
   "metadata": {},
   "source": [
    "--------"
   ]
  },
  {
   "cell_type": "markdown",
   "metadata": {},
   "source": [
    "# With Box-Cox Time (y)"
   ]
  },
  {
   "cell_type": "markdown",
   "metadata": {},
   "source": [
    "See if we can transform Y to be more bell-shaped using Box-Cox."
   ]
  },
  {
   "cell_type": "code",
   "execution_count": 19,
   "metadata": {
    "scrolled": true
   },
   "outputs": [
    {
     "name": "stdout",
     "output_type": "stream",
     "text": [
      "[-0.80878603]\n"
     ]
    },
    {
     "data": {
      "image/png": "[encoded data removed]",
      "text/plain": [
       "<matplotlib.figure.Figure at 0x22924b0d438>"
      ]
     },
     "metadata": {},
     "output_type": "display_data"
    }
   ],
   "source": [
    "temp_y = all_df.time.values.reshape(len(all_df), 1)\n",
    "# https://www.isixsigma.com/tools-templates/normality/making-data-normal-using-box-cox-power-transformation/\n",
    "bc = preprocessing.PowerTransformer(method='box-cox', standardize=True) # NOTE! only works with sklearn 0.2+\n",
    "bc_y = bc.fit_transform(temp_y)\n",
    "print(bc.lambdas_)\n",
    "\n",
    "plt.hist(bc_y)\n",
    "plt.title(\"Distribution of Runtime, Box-Cox lambda=-0.81\")\n",
    "plt.savefig(\"time_dist_boxcox.jpg\")\n",
    "plt.show()"
   ]
  },
  {
   "cell_type": "code",
   "execution_count": 20,
   "metadata": {
    "collapsed": true
   },
   "outputs": [],
   "source": [
    "rs = np.random.RandomState(seed=1)\n",
    "df = all_df\n",
    "X = df.iloc[:,:-1]\n",
    "y = bc_y\n",
    "\n",
    "X_train, X_test, y_train, y_test = train_test_split(X, y, test_size=0.20, random_state=rs, ) # 80/20 split!"
   ]
  },
  {
   "cell_type": "markdown",
   "metadata": {},
   "source": [
    "### Linear Regression"
   ]
  },
  {
   "cell_type": "code",
   "execution_count": 21,
   "metadata": {
    "scrolled": true
   },
   "outputs": [
    {
     "name": "stdout",
     "output_type": "stream",
     "text": [
      "0.9876827811838255\n"
     ]
    },
    {
     "data": {
      "text/plain": [
       "0.009178836802854872"
      ]
     },
     "execution_count": 21,
     "metadata": {},
     "output_type": "execute_result"
    }
   ],
   "source": [
    "# fitting intercept = False because included all query columns!\n",
    "reg = LinearRegression(fit_intercept=False).fit(X_train, y_train)\n",
    "print(reg.score(X_train, y_train))\n",
    "y_pred_reg = reg.predict(X_test)\n",
    "mean_squared_error(y_test, y_pred_reg)"
   ]
  },
  {
   "cell_type": "code",
   "execution_count": 22,
   "metadata": {},
   "outputs": [
    {
     "data": {
      "text/html": [
       "<div>\n",
       "<style scoped>\n",
       "    .dataframe tbody tr th:only-of-type {\n",
       "        vertical-align: middle;\n",
       "    }\n",
       "\n",
       "    .dataframe tbody tr th {\n",
       "        vertical-align: top;\n",
       "    }\n",
       "\n",
       "    .dataframe thead th {\n",
       "        text-align: right;\n",
       "    }\n",
       "</style>\n",
       "<table border=\"1\" class=\"dataframe\">\n",
       "  <thead>\n",
       "    <tr style=\"text-align: right;\">\n",
       "      <th></th>\n",
       "      <th>driver-memory</th>\n",
       "      <th>executor-memory</th>\n",
       "      <th>num_cores</th>\n",
       "      <th>q_01</th>\n",
       "      <th>q_02</th>\n",
       "      <th>q_03</th>\n",
       "      <th>q_04</th>\n",
       "      <th>q_05</th>\n",
       "      <th>q_06</th>\n",
       "      <th>q_07</th>\n",
       "      <th>q_08</th>\n",
       "      <th>q_09</th>\n",
       "      <th>gc-alg-parallel</th>\n",
       "    </tr>\n",
       "  </thead>\n",
       "  <tbody>\n",
       "    <tr>\n",
       "      <th>0</th>\n",
       "      <td>0.020084</td>\n",
       "      <td>0.000388</td>\n",
       "      <td>0.064734</td>\n",
       "      <td>-0.182705</td>\n",
       "      <td>-0.133983</td>\n",
       "      <td>-1.888234</td>\n",
       "      <td>1.561607</td>\n",
       "      <td>0.317292</td>\n",
       "      <td>0.57859</td>\n",
       "      <td>-1.31328</td>\n",
       "      <td>-0.270393</td>\n",
       "      <td>-1.182916</td>\n",
       "      <td>0.004668</td>\n",
       "    </tr>\n",
       "  </tbody>\n",
       "</table>\n",
       "</div>"
      ],
      "text/plain": [
       "   driver-memory  executor-memory  num_cores      q_01      q_02      q_03  \\\n",
       "0       0.020084         0.000388   0.064734 -0.182705 -0.133983 -1.888234   \n",
       "\n",
       "       q_04      q_05     q_06     q_07      q_08      q_09  gc-alg-parallel  \n",
       "0  1.561607  0.317292  0.57859 -1.31328 -0.270393 -1.182916         0.004668  "
      ]
     },
     "execution_count": 22,
     "metadata": {},
     "output_type": "execute_result"
    }
   ],
   "source": [
    "c = pd.DataFrame(reg.coef_)\n",
    "c.columns = X_train.columns\n",
    "c # coefficients of the linear regression model"
   ]
  },
  {
   "cell_type": "markdown",
   "metadata": {},
   "source": [
    "_Be careful when looking at these numbers! You have to think of them in terms of the Box-Cox values now_"
   ]
  },
  {
   "cell_type": "markdown",
   "metadata": {},
   "source": [
    "### LASSO"
   ]
  },
  {
   "cell_type": "code",
   "execution_count": 23,
   "metadata": {},
   "outputs": [
    {
     "data": {
      "text/html": [
       "<div>\n",
       "<style scoped>\n",
       "    .dataframe tbody tr th:only-of-type {\n",
       "        vertical-align: middle;\n",
       "    }\n",
       "\n",
       "    .dataframe tbody tr th {\n",
       "        vertical-align: top;\n",
       "    }\n",
       "\n",
       "    .dataframe thead th {\n",
       "        text-align: right;\n",
       "    }\n",
       "</style>\n",
       "<table border=\"1\" class=\"dataframe\">\n",
       "  <thead>\n",
       "    <tr style=\"text-align: right;\">\n",
       "      <th></th>\n",
       "      <th>driver-memory</th>\n",
       "      <th>executor-memory</th>\n",
       "      <th>num_cores</th>\n",
       "      <th>q_01</th>\n",
       "      <th>q_02</th>\n",
       "      <th>q_03</th>\n",
       "      <th>q_04</th>\n",
       "      <th>q_05</th>\n",
       "      <th>q_06</th>\n",
       "      <th>q_07</th>\n",
       "      <th>q_08</th>\n",
       "      <th>q_09</th>\n",
       "      <th>gc-alg-parallel</th>\n",
       "    </tr>\n",
       "  </thead>\n",
       "  <tbody>\n",
       "    <tr>\n",
       "      <th>0</th>\n",
       "      <td>0.068856</td>\n",
       "      <td>-0.0</td>\n",
       "      <td>-0.0</td>\n",
       "      <td>0.0</td>\n",
       "      <td>0.0</td>\n",
       "      <td>-12.673862</td>\n",
       "      <td>52.376401</td>\n",
       "      <td>6.747935</td>\n",
       "      <td>12.38685</td>\n",
       "      <td>-9.405939</td>\n",
       "      <td>-0.073398</td>\n",
       "      <td>-8.466716</td>\n",
       "      <td>0.0</td>\n",
       "    </tr>\n",
       "  </tbody>\n",
       "</table>\n",
       "</div>"
      ],
      "text/plain": [
       "   driver-memory  executor-memory  num_cores  q_01  q_02       q_03  \\\n",
       "0       0.068856             -0.0       -0.0   0.0   0.0 -12.673862   \n",
       "\n",
       "        q_04      q_05      q_06      q_07      q_08      q_09  \\\n",
       "0  52.376401  6.747935  12.38685 -9.405939 -0.073398 -8.466716   \n",
       "\n",
       "   gc-alg-parallel  \n",
       "0              0.0  "
      ]
     },
     "execution_count": 23,
     "metadata": {},
     "output_type": "execute_result"
    }
   ],
   "source": [
    "l = pd.DataFrame(lasso.coef_)\n",
    "l = l.T\n",
    "l.columns = X_train.columns\n",
    "l"
   ]
  },
  {
   "cell_type": "code",
   "execution_count": 24,
   "metadata": {},
   "outputs": [
    {
     "name": "stdout",
     "output_type": "stream",
     "text": [
      "0.8539150308324194\n",
      "[-0.          0.00286104  0.00987111  0.          0.         -1.2742656\n",
      "  1.28521721  0.01678124  0.33863488 -0.69405548 -0.         -0.55109972\n",
      " -0.        ]\n"
     ]
    },
    {
     "data": {
      "text/plain": [
       "0.12703918109708198"
      ]
     },
     "execution_count": 24,
     "metadata": {},
     "output_type": "execute_result"
    }
   ],
   "source": [
    "lasso = Lasso(random_state=rs, alpha=0.05).fit(X_train, y_train) # note, low alpha --> more like regular LR\n",
    "print(lasso.score(X_train, y_train))\n",
    "print(lasso.coef_)\n",
    "print\n",
    "y_pred_lasso = lasso.predict(X_test)\n",
    "mean_squared_error(y_test, y_pred_lasso)"
   ]
  },
  {
   "cell_type": "markdown",
   "metadata": {},
   "source": [
    "### Random Forest"
   ]
  },
  {
   "cell_type": "code",
   "execution_count": 25,
   "metadata": {},
   "outputs": [
    {
     "name": "stderr",
     "output_type": "stream",
     "text": [
      "C:\\Users\\Cindy\\Anaconda3\\lib\\site-packages\\sklearn\\ensemble\\forest.py:246: FutureWarning: The default value of n_estimators will change from 10 in version 0.20 to 100 in 0.22.\n",
      "  \"10 in version 0.20 to 100 in 0.22.\", FutureWarning)\n",
      "C:\\Users\\Cindy\\Anaconda3\\lib\\site-packages\\ipykernel\\__main__.py:3: DataConversionWarning: A column-vector y was passed when a 1d array was expected. Please change the shape of y to (n_samples,), for example using ravel().\n",
      "  app.launch_new_instance()\n"
     ]
    },
    {
     "data": {
      "text/html": [
       "<div>\n",
       "<style scoped>\n",
       "    .dataframe tbody tr th:only-of-type {\n",
       "        vertical-align: middle;\n",
       "    }\n",
       "\n",
       "    .dataframe tbody tr th {\n",
       "        vertical-align: top;\n",
       "    }\n",
       "\n",
       "    .dataframe thead th {\n",
       "        text-align: right;\n",
       "    }\n",
       "</style>\n",
       "<table border=\"1\" class=\"dataframe\">\n",
       "  <thead>\n",
       "    <tr style=\"text-align: right;\">\n",
       "      <th></th>\n",
       "      <th>driver-memory</th>\n",
       "      <th>executor-memory</th>\n",
       "      <th>num_cores</th>\n",
       "      <th>q_01</th>\n",
       "      <th>q_02</th>\n",
       "      <th>q_03</th>\n",
       "      <th>q_04</th>\n",
       "      <th>q_05</th>\n",
       "      <th>q_06</th>\n",
       "      <th>q_07</th>\n",
       "      <th>q_08</th>\n",
       "      <th>q_09</th>\n",
       "      <th>gc-alg-parallel</th>\n",
       "    </tr>\n",
       "  </thead>\n",
       "  <tbody>\n",
       "    <tr>\n",
       "      <th>0</th>\n",
       "      <td>0.001762</td>\n",
       "      <td>0.001798</td>\n",
       "      <td>0.011775</td>\n",
       "      <td>0.000163</td>\n",
       "      <td>0.000206</td>\n",
       "      <td>0.224948</td>\n",
       "      <td>0.389748</td>\n",
       "      <td>0.019694</td>\n",
       "      <td>0.057136</td>\n",
       "      <td>0.144984</td>\n",
       "      <td>0.000819</td>\n",
       "      <td>0.145987</td>\n",
       "      <td>0.000979</td>\n",
       "    </tr>\n",
       "  </tbody>\n",
       "</table>\n",
       "</div>"
      ],
      "text/plain": [
       "   driver-memory  executor-memory  num_cores      q_01      q_02      q_03  \\\n",
       "0       0.001762         0.001798   0.011775  0.000163  0.000206  0.224948   \n",
       "\n",
       "       q_04      q_05      q_06      q_07      q_08      q_09  gc-alg-parallel  \n",
       "0  0.389748  0.019694  0.057136  0.144984  0.000819  0.145987         0.000979  "
      ]
     },
     "execution_count": 25,
     "metadata": {},
     "output_type": "execute_result"
    }
   ],
   "source": [
    "# https://scikit-learn.org/stable/modules/generated/sklearn.ensemble.RandomForestRegressor.html\n",
    "rf = RandomForestRegressor(random_state=rs)\n",
    "rf.fit(X_train, y_train)\n",
    "\n",
    "s = pd.DataFrame((rf.feature_importances_))\n",
    "s = s.T\n",
    "s.columns = X_train.columns\n",
    "\n",
    "s"
   ]
  },
  {
   "cell_type": "code",
   "execution_count": 26,
   "metadata": {
    "scrolled": true
   },
   "outputs": [
    {
     "data": {
      "text/plain": [
       "0.007601255054427368"
      ]
     },
     "execution_count": 26,
     "metadata": {},
     "output_type": "execute_result"
    }
   ],
   "source": [
    "y_pred_rf = rf.predict(X_test)\n",
    "mean_squared_error(y_test, y_pred_rf)"
   ]
  },
  {
   "cell_type": "markdown",
   "metadata": {},
   "source": [
    "----------"
   ]
  },
  {
   "cell_type": "markdown",
   "metadata": {},
   "source": [
    "## Individual Queries"
   ]
  },
  {
   "cell_type": "markdown",
   "metadata": {},
   "source": [
    "Examine only one query instead of all of them. Using regular Y not Box-Cox."
   ]
  },
  {
   "cell_type": "code",
   "execution_count": 27,
   "metadata": {
    "collapsed": true
   },
   "outputs": [],
   "source": [
    "def model_on_query(df):\n",
    "\n",
    "    for i in range(1, 10):\n",
    "        df = df.drop(\"q_0\" + str(i), axis=1)\n",
    "\n",
    "    X = df.iloc[:,:-1]\n",
    "    y = df.time\n",
    "\n",
    "    X_train, X_test, y_train, y_test = train_test_split(X, y, test_size=0.20, random_state=rs ) # 80/20 split!\n",
    "\n",
    "    reg = LinearRegression(fit_intercept=False).fit(X_train, y_train)\n",
    "    y_pred_reg = reg.predict(X_test)\n",
    "    mse = mean_squared_error(y_test, y_pred_reg)\n",
    "    \n",
    "    c = pd.DataFrame(reg.coef_)\n",
    "    c = c.T\n",
    "    c.columns = X_train.columns\n",
    "    c[\"MSE\"] = mse\n",
    "    c[\"R2\"] = reg.score(X_train, y_train)\n",
    "    \n",
    "    # https://scikit-learn.org/stable/modules/generated/sklearn.ensemble.RandomForestRegressor.html\n",
    "    rf = RandomForestRegressor(random_state=rs)\n",
    "    rf.fit(X_train, y_train)\n",
    "\n",
    "    s = pd.DataFrame((rf.feature_importances_))\n",
    "    s = s.T\n",
    "    s.columns = X_train.columns\n",
    "    y_pred_rf = rf.predict(X_test)\n",
    "    s[\"MSE\"] = mean_squared_error(y_test, y_pred_rf)\n",
    "    s[\"R2\"] = \"--\"\n",
    "    \n",
    "    return pd.concat([c, s])"
   ]
  },
  {
   "cell_type": "code",
   "execution_count": 28,
   "metadata": {
    "scrolled": true
   },
   "outputs": [
    {
     "name": "stderr",
     "output_type": "stream",
     "text": [
      "C:\\Users\\Cindy\\Anaconda3\\lib\\site-packages\\sklearn\\ensemble\\forest.py:246: FutureWarning: The default value of n_estimators will change from 10 in version 0.20 to 100 in 0.22.\n",
      "  \"10 in version 0.20 to 100 in 0.22.\", FutureWarning)\n",
      "C:\\Users\\Cindy\\Anaconda3\\lib\\site-packages\\sklearn\\ensemble\\forest.py:246: FutureWarning: The default value of n_estimators will change from 10 in version 0.20 to 100 in 0.22.\n",
      "  \"10 in version 0.20 to 100 in 0.22.\", FutureWarning)\n",
      "C:\\Users\\Cindy\\Anaconda3\\lib\\site-packages\\sklearn\\ensemble\\forest.py:246: FutureWarning: The default value of n_estimators will change from 10 in version 0.20 to 100 in 0.22.\n",
      "  \"10 in version 0.20 to 100 in 0.22.\", FutureWarning)\n",
      "C:\\Users\\Cindy\\Anaconda3\\lib\\site-packages\\sklearn\\ensemble\\forest.py:246: FutureWarning: The default value of n_estimators will change from 10 in version 0.20 to 100 in 0.22.\n",
      "  \"10 in version 0.20 to 100 in 0.22.\", FutureWarning)\n",
      "C:\\Users\\Cindy\\Anaconda3\\lib\\site-packages\\sklearn\\ensemble\\forest.py:246: FutureWarning: The default value of n_estimators will change from 10 in version 0.20 to 100 in 0.22.\n",
      "  \"10 in version 0.20 to 100 in 0.22.\", FutureWarning)\n",
      "C:\\Users\\Cindy\\Anaconda3\\lib\\site-packages\\sklearn\\ensemble\\forest.py:246: FutureWarning: The default value of n_estimators will change from 10 in version 0.20 to 100 in 0.22.\n",
      "  \"10 in version 0.20 to 100 in 0.22.\", FutureWarning)\n",
      "C:\\Users\\Cindy\\Anaconda3\\lib\\site-packages\\sklearn\\ensemble\\forest.py:246: FutureWarning: The default value of n_estimators will change from 10 in version 0.20 to 100 in 0.22.\n",
      "  \"10 in version 0.20 to 100 in 0.22.\", FutureWarning)\n",
      "C:\\Users\\Cindy\\Anaconda3\\lib\\site-packages\\sklearn\\ensemble\\forest.py:246: FutureWarning: The default value of n_estimators will change from 10 in version 0.20 to 100 in 0.22.\n",
      "  \"10 in version 0.20 to 100 in 0.22.\", FutureWarning)\n",
      "C:\\Users\\Cindy\\Anaconda3\\lib\\site-packages\\sklearn\\ensemble\\forest.py:246: FutureWarning: The default value of n_estimators will change from 10 in version 0.20 to 100 in 0.22.\n",
      "  \"10 in version 0.20 to 100 in 0.22.\", FutureWarning)\n"
     ]
    }
   ],
   "source": [
    "metrics = []\n",
    "for i in range(1, 10):\n",
    "    df = all_df.loc[all_df[\"q_0\" + str(i)] == 1]\n",
    "    metrics.append(model_on_query(df))"
   ]
  },
  {
   "cell_type": "code",
   "execution_count": 29,
   "metadata": {},
   "outputs": [
    {
     "data": {
      "text/html": [
       "<div>\n",
       "<style scoped>\n",
       "    .dataframe tbody tr th:only-of-type {\n",
       "        vertical-align: middle;\n",
       "    }\n",
       "\n",
       "    .dataframe tbody tr th {\n",
       "        vertical-align: top;\n",
       "    }\n",
       "\n",
       "    .dataframe thead th {\n",
       "        text-align: right;\n",
       "    }\n",
       "</style>\n",
       "<table border=\"1\" class=\"dataframe\">\n",
       "  <thead>\n",
       "    <tr style=\"text-align: right;\">\n",
       "      <th></th>\n",
       "      <th>driver-memory</th>\n",
       "      <th>executor-memory</th>\n",
       "      <th>num_cores</th>\n",
       "      <th>gc-alg-parallel</th>\n",
       "      <th>MSE</th>\n",
       "      <th>R2</th>\n",
       "    </tr>\n",
       "  </thead>\n",
       "  <tbody>\n",
       "    <tr>\n",
       "      <th>0</th>\n",
       "      <td>5.326321</td>\n",
       "      <td>1.187277</td>\n",
       "      <td>3.491302</td>\n",
       "      <td>1.903435</td>\n",
       "      <td>29.444386</td>\n",
       "      <td>-9.44465</td>\n",
       "    </tr>\n",
       "    <tr>\n",
       "      <th>0</th>\n",
       "      <td>0.436526</td>\n",
       "      <td>0.393484</td>\n",
       "      <td>0.065003</td>\n",
       "      <td>0.104988</td>\n",
       "      <td>0.524196</td>\n",
       "      <td>--</td>\n",
       "    </tr>\n",
       "  </tbody>\n",
       "</table>\n",
       "</div>"
      ],
      "text/plain": [
       "   driver-memory  executor-memory  num_cores  gc-alg-parallel        MSE  \\\n",
       "0       5.326321         1.187277   3.491302         1.903435  29.444386   \n",
       "0       0.436526         0.393484   0.065003         0.104988   0.524196   \n",
       "\n",
       "        R2  \n",
       "0 -9.44465  \n",
       "0       --  "
      ]
     },
     "metadata": {},
     "output_type": "display_data"
    },
    {
     "data": {
      "text/html": [
       "<div>\n",
       "<style scoped>\n",
       "    .dataframe tbody tr th:only-of-type {\n",
       "        vertical-align: middle;\n",
       "    }\n",
       "\n",
       "    .dataframe tbody tr th {\n",
       "        vertical-align: top;\n",
       "    }\n",
       "\n",
       "    .dataframe thead th {\n",
       "        text-align: right;\n",
       "    }\n",
       "</style>\n",
       "<table border=\"1\" class=\"dataframe\">\n",
       "  <thead>\n",
       "    <tr style=\"text-align: right;\">\n",
       "      <th></th>\n",
       "      <th>driver-memory</th>\n",
       "      <th>executor-memory</th>\n",
       "      <th>num_cores</th>\n",
       "      <th>gc-alg-parallel</th>\n",
       "      <th>MSE</th>\n",
       "      <th>R2</th>\n",
       "    </tr>\n",
       "  </thead>\n",
       "  <tbody>\n",
       "    <tr>\n",
       "      <th>0</th>\n",
       "      <td>5.526625</td>\n",
       "      <td>1.066830</td>\n",
       "      <td>3.442939</td>\n",
       "      <td>3.004468</td>\n",
       "      <td>45.013362</td>\n",
       "      <td>-49.9563</td>\n",
       "    </tr>\n",
       "    <tr>\n",
       "      <th>0</th>\n",
       "      <td>0.311709</td>\n",
       "      <td>0.318914</td>\n",
       "      <td>0.147101</td>\n",
       "      <td>0.222276</td>\n",
       "      <td>0.869229</td>\n",
       "      <td>--</td>\n",
       "    </tr>\n",
       "  </tbody>\n",
       "</table>\n",
       "</div>"
      ],
      "text/plain": [
       "   driver-memory  executor-memory  num_cores  gc-alg-parallel        MSE  \\\n",
       "0       5.526625         1.066830   3.442939         3.004468  45.013362   \n",
       "0       0.311709         0.318914   0.147101         0.222276   0.869229   \n",
       "\n",
       "        R2  \n",
       "0 -49.9563  \n",
       "0       --  "
      ]
     },
     "metadata": {},
     "output_type": "display_data"
    },
    {
     "data": {
      "text/html": [
       "<div>\n",
       "<style scoped>\n",
       "    .dataframe tbody tr th:only-of-type {\n",
       "        vertical-align: middle;\n",
       "    }\n",
       "\n",
       "    .dataframe tbody tr th {\n",
       "        vertical-align: top;\n",
       "    }\n",
       "\n",
       "    .dataframe thead th {\n",
       "        text-align: right;\n",
       "    }\n",
       "</style>\n",
       "<table border=\"1\" class=\"dataframe\">\n",
       "  <thead>\n",
       "    <tr style=\"text-align: right;\">\n",
       "      <th></th>\n",
       "      <th>driver-memory</th>\n",
       "      <th>executor-memory</th>\n",
       "      <th>num_cores</th>\n",
       "      <th>gc-alg-parallel</th>\n",
       "      <th>MSE</th>\n",
       "      <th>R2</th>\n",
       "    </tr>\n",
       "  </thead>\n",
       "  <tbody>\n",
       "    <tr>\n",
       "      <th>0</th>\n",
       "      <td>2.903161</td>\n",
       "      <td>0.513720</td>\n",
       "      <td>2.570930</td>\n",
       "      <td>0.653712</td>\n",
       "      <td>12.726105</td>\n",
       "      <td>-5.22443</td>\n",
       "    </tr>\n",
       "    <tr>\n",
       "      <th>0</th>\n",
       "      <td>0.087284</td>\n",
       "      <td>0.093978</td>\n",
       "      <td>0.769548</td>\n",
       "      <td>0.049190</td>\n",
       "      <td>0.499503</td>\n",
       "      <td>--</td>\n",
       "    </tr>\n",
       "  </tbody>\n",
       "</table>\n",
       "</div>"
      ],
      "text/plain": [
       "   driver-memory  executor-memory  num_cores  gc-alg-parallel        MSE  \\\n",
       "0       2.903161         0.513720   2.570930         0.653712  12.726105   \n",
       "0       0.087284         0.093978   0.769548         0.049190   0.499503   \n",
       "\n",
       "        R2  \n",
       "0 -5.22443  \n",
       "0       --  "
      ]
     },
     "metadata": {},
     "output_type": "display_data"
    },
    {
     "data": {
      "text/html": [
       "<div>\n",
       "<style scoped>\n",
       "    .dataframe tbody tr th:only-of-type {\n",
       "        vertical-align: middle;\n",
       "    }\n",
       "\n",
       "    .dataframe tbody tr th {\n",
       "        vertical-align: top;\n",
       "    }\n",
       "\n",
       "    .dataframe thead th {\n",
       "        text-align: right;\n",
       "    }\n",
       "</style>\n",
       "<table border=\"1\" class=\"dataframe\">\n",
       "  <thead>\n",
       "    <tr style=\"text-align: right;\">\n",
       "      <th></th>\n",
       "      <th>driver-memory</th>\n",
       "      <th>executor-memory</th>\n",
       "      <th>num_cores</th>\n",
       "      <th>gc-alg-parallel</th>\n",
       "      <th>MSE</th>\n",
       "      <th>R2</th>\n",
       "    </tr>\n",
       "  </thead>\n",
       "  <tbody>\n",
       "    <tr>\n",
       "      <th>0</th>\n",
       "      <td>16.671757</td>\n",
       "      <td>3.502197</td>\n",
       "      <td>5.408763</td>\n",
       "      <td>3.265757</td>\n",
       "      <td>277.389628</td>\n",
       "      <td>-14.3036</td>\n",
       "    </tr>\n",
       "    <tr>\n",
       "      <th>0</th>\n",
       "      <td>0.043869</td>\n",
       "      <td>0.046495</td>\n",
       "      <td>0.884689</td>\n",
       "      <td>0.024948</td>\n",
       "      <td>3.760093</td>\n",
       "      <td>--</td>\n",
       "    </tr>\n",
       "  </tbody>\n",
       "</table>\n",
       "</div>"
      ],
      "text/plain": [
       "   driver-memory  executor-memory  num_cores  gc-alg-parallel         MSE  \\\n",
       "0      16.671757         3.502197   5.408763         3.265757  277.389628   \n",
       "0       0.043869         0.046495   0.884689         0.024948    3.760093   \n",
       "\n",
       "        R2  \n",
       "0 -14.3036  \n",
       "0       --  "
      ]
     },
     "metadata": {},
     "output_type": "display_data"
    },
    {
     "data": {
      "text/html": [
       "<div>\n",
       "<style scoped>\n",
       "    .dataframe tbody tr th:only-of-type {\n",
       "        vertical-align: middle;\n",
       "    }\n",
       "\n",
       "    .dataframe tbody tr th {\n",
       "        vertical-align: top;\n",
       "    }\n",
       "\n",
       "    .dataframe thead th {\n",
       "        text-align: right;\n",
       "    }\n",
       "</style>\n",
       "<table border=\"1\" class=\"dataframe\">\n",
       "  <thead>\n",
       "    <tr style=\"text-align: right;\">\n",
       "      <th></th>\n",
       "      <th>driver-memory</th>\n",
       "      <th>executor-memory</th>\n",
       "      <th>num_cores</th>\n",
       "      <th>gc-alg-parallel</th>\n",
       "      <th>MSE</th>\n",
       "      <th>R2</th>\n",
       "    </tr>\n",
       "  </thead>\n",
       "  <tbody>\n",
       "    <tr>\n",
       "      <th>0</th>\n",
       "      <td>7.343697</td>\n",
       "      <td>1.582686</td>\n",
       "      <td>3.389450</td>\n",
       "      <td>1.577393</td>\n",
       "      <td>23.521967</td>\n",
       "      <td>-105.271</td>\n",
       "    </tr>\n",
       "    <tr>\n",
       "      <th>0</th>\n",
       "      <td>0.354399</td>\n",
       "      <td>0.327272</td>\n",
       "      <td>0.157451</td>\n",
       "      <td>0.160878</td>\n",
       "      <td>0.680235</td>\n",
       "      <td>--</td>\n",
       "    </tr>\n",
       "  </tbody>\n",
       "</table>\n",
       "</div>"
      ],
      "text/plain": [
       "   driver-memory  executor-memory  num_cores  gc-alg-parallel        MSE  \\\n",
       "0       7.343697         1.582686   3.389450         1.577393  23.521967   \n",
       "0       0.354399         0.327272   0.157451         0.160878   0.680235   \n",
       "\n",
       "        R2  \n",
       "0 -105.271  \n",
       "0       --  "
      ]
     },
     "metadata": {},
     "output_type": "display_data"
    },
    {
     "data": {
      "text/html": [
       "<div>\n",
       "<style scoped>\n",
       "    .dataframe tbody tr th:only-of-type {\n",
       "        vertical-align: middle;\n",
       "    }\n",
       "\n",
       "    .dataframe tbody tr th {\n",
       "        vertical-align: top;\n",
       "    }\n",
       "\n",
       "    .dataframe thead th {\n",
       "        text-align: right;\n",
       "    }\n",
       "</style>\n",
       "<table border=\"1\" class=\"dataframe\">\n",
       "  <thead>\n",
       "    <tr style=\"text-align: right;\">\n",
       "      <th></th>\n",
       "      <th>driver-memory</th>\n",
       "      <th>executor-memory</th>\n",
       "      <th>num_cores</th>\n",
       "      <th>gc-alg-parallel</th>\n",
       "      <th>MSE</th>\n",
       "      <th>R2</th>\n",
       "    </tr>\n",
       "  </thead>\n",
       "  <tbody>\n",
       "    <tr>\n",
       "      <th>0</th>\n",
       "      <td>7.938158</td>\n",
       "      <td>1.150695</td>\n",
       "      <td>4.657946</td>\n",
       "      <td>4.240389</td>\n",
       "      <td>136.817358</td>\n",
       "      <td>-35.5546</td>\n",
       "    </tr>\n",
       "    <tr>\n",
       "      <th>0</th>\n",
       "      <td>0.159696</td>\n",
       "      <td>0.232946</td>\n",
       "      <td>0.453951</td>\n",
       "      <td>0.153407</td>\n",
       "      <td>1.020287</td>\n",
       "      <td>--</td>\n",
       "    </tr>\n",
       "  </tbody>\n",
       "</table>\n",
       "</div>"
      ],
      "text/plain": [
       "   driver-memory  executor-memory  num_cores  gc-alg-parallel         MSE  \\\n",
       "0       7.938158         1.150695   4.657946         4.240389  136.817358   \n",
       "0       0.159696         0.232946   0.453951         0.153407    1.020287   \n",
       "\n",
       "        R2  \n",
       "0 -35.5546  \n",
       "0       --  "
      ]
     },
     "metadata": {},
     "output_type": "display_data"
    },
    {
     "data": {
      "text/html": [
       "<div>\n",
       "<style scoped>\n",
       "    .dataframe tbody tr th:only-of-type {\n",
       "        vertical-align: middle;\n",
       "    }\n",
       "\n",
       "    .dataframe tbody tr th {\n",
       "        vertical-align: top;\n",
       "    }\n",
       "\n",
       "    .dataframe thead th {\n",
       "        text-align: right;\n",
       "    }\n",
       "</style>\n",
       "<table border=\"1\" class=\"dataframe\">\n",
       "  <thead>\n",
       "    <tr style=\"text-align: right;\">\n",
       "      <th></th>\n",
       "      <th>driver-memory</th>\n",
       "      <th>executor-memory</th>\n",
       "      <th>num_cores</th>\n",
       "      <th>gc-alg-parallel</th>\n",
       "      <th>MSE</th>\n",
       "      <th>R2</th>\n",
       "    </tr>\n",
       "  </thead>\n",
       "  <tbody>\n",
       "    <tr>\n",
       "      <th>0</th>\n",
       "      <td>3.265274</td>\n",
       "      <td>0.694398</td>\n",
       "      <td>2.988939</td>\n",
       "      <td>1.034806</td>\n",
       "      <td>4.599820</td>\n",
       "      <td>-12.0244</td>\n",
       "    </tr>\n",
       "    <tr>\n",
       "      <th>0</th>\n",
       "      <td>0.080666</td>\n",
       "      <td>0.085620</td>\n",
       "      <td>0.789748</td>\n",
       "      <td>0.043966</td>\n",
       "      <td>0.363506</td>\n",
       "      <td>--</td>\n",
       "    </tr>\n",
       "  </tbody>\n",
       "</table>\n",
       "</div>"
      ],
      "text/plain": [
       "   driver-memory  executor-memory  num_cores  gc-alg-parallel       MSE  \\\n",
       "0       3.265274         0.694398   2.988939         1.034806  4.599820   \n",
       "0       0.080666         0.085620   0.789748         0.043966  0.363506   \n",
       "\n",
       "        R2  \n",
       "0 -12.0244  \n",
       "0       --  "
      ]
     },
     "metadata": {},
     "output_type": "display_data"
    },
    {
     "data": {
      "text/html": [
       "<div>\n",
       "<style scoped>\n",
       "    .dataframe tbody tr th:only-of-type {\n",
       "        vertical-align: middle;\n",
       "    }\n",
       "\n",
       "    .dataframe tbody tr th {\n",
       "        vertical-align: top;\n",
       "    }\n",
       "\n",
       "    .dataframe thead th {\n",
       "        text-align: right;\n",
       "    }\n",
       "</style>\n",
       "<table border=\"1\" class=\"dataframe\">\n",
       "  <thead>\n",
       "    <tr style=\"text-align: right;\">\n",
       "      <th></th>\n",
       "      <th>driver-memory</th>\n",
       "      <th>executor-memory</th>\n",
       "      <th>num_cores</th>\n",
       "      <th>gc-alg-parallel</th>\n",
       "      <th>MSE</th>\n",
       "      <th>R2</th>\n",
       "    </tr>\n",
       "  </thead>\n",
       "  <tbody>\n",
       "    <tr>\n",
       "      <th>0</th>\n",
       "      <td>5.293152</td>\n",
       "      <td>1.211692</td>\n",
       "      <td>3.215778</td>\n",
       "      <td>1.737621</td>\n",
       "      <td>27.098302</td>\n",
       "      <td>-33.7491</td>\n",
       "    </tr>\n",
       "    <tr>\n",
       "      <th>0</th>\n",
       "      <td>0.136347</td>\n",
       "      <td>0.176847</td>\n",
       "      <td>0.620186</td>\n",
       "      <td>0.066619</td>\n",
       "      <td>0.315616</td>\n",
       "      <td>--</td>\n",
       "    </tr>\n",
       "  </tbody>\n",
       "</table>\n",
       "</div>"
      ],
      "text/plain": [
       "   driver-memory  executor-memory  num_cores  gc-alg-parallel        MSE  \\\n",
       "0       5.293152         1.211692   3.215778         1.737621  27.098302   \n",
       "0       0.136347         0.176847   0.620186         0.066619   0.315616   \n",
       "\n",
       "        R2  \n",
       "0 -33.7491  \n",
       "0       --  "
      ]
     },
     "metadata": {},
     "output_type": "display_data"
    },
    {
     "data": {
      "text/html": [
       "<div>\n",
       "<style scoped>\n",
       "    .dataframe tbody tr th:only-of-type {\n",
       "        vertical-align: middle;\n",
       "    }\n",
       "\n",
       "    .dataframe tbody tr th {\n",
       "        vertical-align: top;\n",
       "    }\n",
       "\n",
       "    .dataframe thead th {\n",
       "        text-align: right;\n",
       "    }\n",
       "</style>\n",
       "<table border=\"1\" class=\"dataframe\">\n",
       "  <thead>\n",
       "    <tr style=\"text-align: right;\">\n",
       "      <th></th>\n",
       "      <th>driver-memory</th>\n",
       "      <th>executor-memory</th>\n",
       "      <th>num_cores</th>\n",
       "      <th>gc-alg-parallel</th>\n",
       "      <th>MSE</th>\n",
       "      <th>R2</th>\n",
       "    </tr>\n",
       "  </thead>\n",
       "  <tbody>\n",
       "    <tr>\n",
       "      <th>0</th>\n",
       "      <td>3.156696</td>\n",
       "      <td>0.589314</td>\n",
       "      <td>3.334559</td>\n",
       "      <td>1.681803</td>\n",
       "      <td>21.918914</td>\n",
       "      <td>-6.07411</td>\n",
       "    </tr>\n",
       "    <tr>\n",
       "      <th>0</th>\n",
       "      <td>0.055601</td>\n",
       "      <td>0.065867</td>\n",
       "      <td>0.845349</td>\n",
       "      <td>0.033183</td>\n",
       "      <td>0.324201</td>\n",
       "      <td>--</td>\n",
       "    </tr>\n",
       "  </tbody>\n",
       "</table>\n",
       "</div>"
      ],
      "text/plain": [
       "   driver-memory  executor-memory  num_cores  gc-alg-parallel        MSE  \\\n",
       "0       3.156696         0.589314   3.334559         1.681803  21.918914   \n",
       "0       0.055601         0.065867   0.845349         0.033183   0.324201   \n",
       "\n",
       "        R2  \n",
       "0 -6.07411  \n",
       "0       --  "
      ]
     },
     "metadata": {},
     "output_type": "display_data"
    }
   ],
   "source": [
    "from IPython.display import display, HTML\n",
    "for i in range(9):\n",
    "    display(metrics[i])"
   ]
  },
  {
   "cell_type": "markdown",
   "metadata": {},
   "source": [
    "Visualizing correlation matrix for query 7."
   ]
  },
  {
   "cell_type": "code",
   "execution_count": 30,
   "metadata": {},
   "outputs": [
    {
     "data": {
      "image/png": "[encoded data removed]",
      "text/plain": [
       "<matplotlib.figure.Figure at 0x22924abc4e0>"
      ]
     },
     "metadata": {},
     "output_type": "display_data"
    }
   ],
   "source": [
    "df = all_df.loc[all_df[\"q_0\" + str(7)] == 1]\n",
    "for i in range(1, 10):\n",
    "    df = df.drop(\"q_0\" + str(i), axis=1)\n",
    "    \n",
    "    \n",
    "correlations = df.corr()\n",
    "# plot correlation matrix\n",
    "fig = plt.figure()\n",
    "ax = fig.add_subplot(111)\n",
    "cax = ax.matshow(correlations, vmin=-1, vmax=1)\n",
    "fig.colorbar(cax)\n",
    "ticks = np.arange(0,5,1)\n",
    "ax.set_xticks(ticks)\n",
    "ax.set_yticks(ticks)\n",
    "ax.set_yticklabels(df.columns)\n",
    "ax.set_xticklabels(df.columns)\n",
    "plt.xticks(rotation=90)\n",
    "plt.savefig(\"corr_7.jpg\")\n",
    "plt.show()"
   ]
  },
  {
   "cell_type": "code",
   "execution_count": 31,
   "metadata": {},
   "outputs": [
    {
     "data": {
      "text/html": [
       "<div>\n",
       "<style scoped>\n",
       "    .dataframe tbody tr th:only-of-type {\n",
       "        vertical-align: middle;\n",
       "    }\n",
       "\n",
       "    .dataframe tbody tr th {\n",
       "        vertical-align: top;\n",
       "    }\n",
       "\n",
       "    .dataframe thead th {\n",
       "        text-align: right;\n",
       "    }\n",
       "</style>\n",
       "<table border=\"1\" class=\"dataframe\">\n",
       "  <thead>\n",
       "    <tr style=\"text-align: right;\">\n",
       "      <th></th>\n",
       "      <th>driver-memory</th>\n",
       "      <th>executor-memory</th>\n",
       "      <th>num_cores</th>\n",
       "      <th>gc-alg-parallel</th>\n",
       "      <th>time</th>\n",
       "    </tr>\n",
       "  </thead>\n",
       "  <tbody>\n",
       "    <tr>\n",
       "      <th>114</th>\n",
       "      <td>3</td>\n",
       "      <td>4</td>\n",
       "      <td>2</td>\n",
       "      <td>1</td>\n",
       "      <td>21.347</td>\n",
       "    </tr>\n",
       "    <tr>\n",
       "      <th>121</th>\n",
       "      <td>4</td>\n",
       "      <td>3</td>\n",
       "      <td>2</td>\n",
       "      <td>0</td>\n",
       "      <td>21.402</td>\n",
       "    </tr>\n",
       "    <tr>\n",
       "      <th>113</th>\n",
       "      <td>3</td>\n",
       "      <td>3</td>\n",
       "      <td>2</td>\n",
       "      <td>0</td>\n",
       "      <td>21.465</td>\n",
       "    </tr>\n",
       "    <tr>\n",
       "      <th>122</th>\n",
       "      <td>4</td>\n",
       "      <td>4</td>\n",
       "      <td>2</td>\n",
       "      <td>1</td>\n",
       "      <td>21.621</td>\n",
       "    </tr>\n",
       "    <tr>\n",
       "      <th>120</th>\n",
       "      <td>4</td>\n",
       "      <td>3</td>\n",
       "      <td>2</td>\n",
       "      <td>1</td>\n",
       "      <td>21.680</td>\n",
       "    </tr>\n",
       "  </tbody>\n",
       "</table>\n",
       "</div>"
      ],
      "text/plain": [
       "     driver-memory  executor-memory  num_cores  gc-alg-parallel    time\n",
       "114              3                4          2                1  21.347\n",
       "121              4                3          2                0  21.402\n",
       "113              3                3          2                0  21.465\n",
       "122              4                4          2                1  21.621\n",
       "120              4                3          2                1  21.680"
      ]
     },
     "execution_count": 31,
     "metadata": {},
     "output_type": "execute_result"
    }
   ],
   "source": [
    "df.sort_values(by=\"time\").head()"
   ]
  }
 ],
 "metadata": {
  "kernelspec": {
   "display_name": "Python 3",
   "language": "python",
   "name": "python3"
  },
  "language_info": {
   "codemirror_mode": {
    "name": "ipython",
    "version": 3
   },
   "file_extension": ".py",
   "mimetype": "text/x-python",
   "name": "python",
   "nbconvert_exporter": "python",
   "pygments_lexer": "ipython3",
   "version": "3.6.7"
  }
 },
 "nbformat": 4,
 "nbformat_minor": 2
}
