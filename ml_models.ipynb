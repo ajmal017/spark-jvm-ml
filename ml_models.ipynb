{
 "cells": [
  {
   "cell_type": "code",
   "execution_count": 68,
   "metadata": {
    "collapsed": true
   },
   "outputs": [],
   "source": [
    "import numpy as np\n",
    "import pandas as pd\n",
    "\n",
    "from sklearn.feature_selection import SelectFromModel\n",
    "from sklearn.datasets import make_regression\n",
    "\n",
    "from sklearn.linear_model import Lasso\n",
    "from sklearn.ensemble import RandomForestRegressor\n",
    "from sklearn.linear_model import LinearRegression\n",
    "\n",
    "from sklearn.metrics import mean_squared_error"
   ]
  },
  {
   "cell_type": "markdown",
   "metadata": {},
   "source": [
    "Assume X has only 1 categorical variable (GC Algorithm) and it only has 2 classes. Assume that variable is already encoded into 0 and 1."
   ]
  },
  {
   "cell_type": "code",
   "execution_count": 9,
   "metadata": {
    "collapsed": true
   },
   "outputs": [],
   "source": [
    "rs = np.random.RandomState(seed=1)"
   ]
  },
  {
   "cell_type": "code",
   "execution_count": 45,
   "metadata": {},
   "outputs": [
    {
     "data": {
      "text/plain": [
       "(100, 6)"
      ]
     },
     "execution_count": 45,
     "metadata": {},
     "output_type": "execute_result"
    }
   ],
   "source": [
    "X.shape"
   ]
  },
  {
   "cell_type": "code",
   "execution_count": 85,
   "metadata": {},
   "outputs": [],
   "source": [
    "X, y = make_regression(n_features=6, n_informative=2,random_state=rs, shuffle=False)\n",
    "y = np.absolute(y)\n",
    "\n",
    "# assuming we have 100 rows in total\n",
    "X_train = X[:80]\n",
    "X_test = X[80:]\n",
    "y_train = y[:80]\n",
    "y_test = y[80:]\n"
   ]
  },
  {
   "cell_type": "code",
   "execution_count": 86,
   "metadata": {},
   "outputs": [
    {
     "data": {
      "text/html": [
       "<div>\n",
       "<style scoped>\n",
       "    .dataframe tbody tr th:only-of-type {\n",
       "        vertical-align: middle;\n",
       "    }\n",
       "\n",
       "    .dataframe tbody tr th {\n",
       "        vertical-align: top;\n",
       "    }\n",
       "\n",
       "    .dataframe thead th {\n",
       "        text-align: right;\n",
       "    }\n",
       "</style>\n",
       "<table border=\"1\" class=\"dataframe\">\n",
       "  <thead>\n",
       "    <tr style=\"text-align: right;\">\n",
       "      <th></th>\n",
       "      <th>gcAlg</th>\n",
       "      <th>driverHeap</th>\n",
       "      <th>execHeap</th>\n",
       "      <th>numCores</th>\n",
       "      <th>ramSize</th>\n",
       "      <th>dataSize</th>\n",
       "      <th>time</th>\n",
       "    </tr>\n",
       "  </thead>\n",
       "  <tbody>\n",
       "    <tr>\n",
       "      <th>0</th>\n",
       "      <td>-0.757263</td>\n",
       "      <td>-0.435493</td>\n",
       "      <td>-1.355148</td>\n",
       "      <td>0.732072</td>\n",
       "      <td>-1.402643</td>\n",
       "      <td>-1.289446</td>\n",
       "      <td>19.218846</td>\n",
       "    </tr>\n",
       "    <tr>\n",
       "      <th>1</th>\n",
       "      <td>1.108302</td>\n",
       "      <td>0.619715</td>\n",
       "      <td>-1.027266</td>\n",
       "      <td>-0.786797</td>\n",
       "      <td>-0.488268</td>\n",
       "      <td>0.359245</td>\n",
       "      <td>28.028086</td>\n",
       "    </tr>\n",
       "    <tr>\n",
       "      <th>2</th>\n",
       "      <td>-0.177895</td>\n",
       "      <td>-1.496273</td>\n",
       "      <td>1.514419</td>\n",
       "      <td>-0.043701</td>\n",
       "      <td>-1.267784</td>\n",
       "      <td>-0.195800</td>\n",
       "      <td>12.400262</td>\n",
       "    </tr>\n",
       "    <tr>\n",
       "      <th>3</th>\n",
       "      <td>-1.198330</td>\n",
       "      <td>-0.064364</td>\n",
       "      <td>-0.310832</td>\n",
       "      <td>-1.096277</td>\n",
       "      <td>0.243537</td>\n",
       "      <td>-1.372882</td>\n",
       "      <td>26.878563</td>\n",
       "    </tr>\n",
       "    <tr>\n",
       "      <th>4</th>\n",
       "      <td>-0.469576</td>\n",
       "      <td>-1.337940</td>\n",
       "      <td>-1.124056</td>\n",
       "      <td>-0.417228</td>\n",
       "      <td>2.070826</td>\n",
       "      <td>-1.300761</td>\n",
       "      <td>17.958390</td>\n",
       "    </tr>\n",
       "  </tbody>\n",
       "</table>\n",
       "</div>"
      ],
      "text/plain": [
       "      gcAlg  driverHeap  execHeap  numCores   ramSize  dataSize       time\n",
       "0 -0.757263   -0.435493 -1.355148  0.732072 -1.402643 -1.289446  19.218846\n",
       "1  1.108302    0.619715 -1.027266 -0.786797 -0.488268  0.359245  28.028086\n",
       "2 -0.177895   -1.496273  1.514419 -0.043701 -1.267784 -0.195800  12.400262\n",
       "3 -1.198330   -0.064364 -0.310832 -1.096277  0.243537 -1.372882  26.878563\n",
       "4 -0.469576   -1.337940 -1.124056 -0.417228  2.070826 -1.300761  17.958390"
      ]
     },
     "execution_count": 86,
     "metadata": {},
     "output_type": "execute_result"
    }
   ],
   "source": [
    "df = pd.DataFrame(X_train, columns=[\"gcAlg\", \"driverHeap\", \"execHeap\", \"numCores\", \"ramSize\", \"dataSize\"])\n",
    "df[\"time\"] = y_train\n",
    "df.head()\n",
    "\n",
    "X_df = df.iloc[:,:-1]\n",
    "y_series = df['time']"
   ]
  },
  {
   "cell_type": "markdown",
   "metadata": {},
   "source": [
    "## Linear Regression"
   ]
  },
  {
   "cell_type": "code",
   "execution_count": 96,
   "metadata": {},
   "outputs": [
    {
     "name": "stdout",
     "output_type": "stream",
     "text": [
      "0.029228546034133607\n"
     ]
    },
    {
     "data": {
      "text/plain": [
       "102.70360483262463"
      ]
     },
     "execution_count": 96,
     "metadata": {},
     "output_type": "execute_result"
    }
   ],
   "source": [
    "reg = LinearRegression().fit(X_train, y_train)\n",
    "print(reg.score(X, y))\n",
    "y_pred_reg = reg.predict(X_test)\n",
    "mean_squared_error(y_test, y_pred_reg)"
   ]
  },
  {
   "cell_type": "markdown",
   "metadata": {},
   "source": [
    "## LASSO"
   ]
  },
  {
   "cell_type": "code",
   "execution_count": 92,
   "metadata": {},
   "outputs": [
    {
     "name": "stdout",
     "output_type": "stream",
     "text": [
      "0.010336923009531707\n",
      "[ 0.         -0.         -0.         -0.71108585 -0.          0.        ]\n"
     ]
    }
   ],
   "source": [
    "lasso = Lasso(random_state=rs).fit(X_df, y_series)\n",
    "print(lasso.score(X_df, y_series))\n",
    "print(lasso.coef_)"
   ]
  },
  {
   "cell_type": "code",
   "execution_count": 97,
   "metadata": {},
   "outputs": [
    {
     "data": {
      "text/plain": [
       "102.86317554907426"
      ]
     },
     "execution_count": 97,
     "metadata": {},
     "output_type": "execute_result"
    }
   ],
   "source": [
    "y_pred_lasso = lasso.predict(X_test)\n",
    "mean_squared_error(y_test, y_pred_lasso)"
   ]
  },
  {
   "cell_type": "code",
   "execution_count": null,
   "metadata": {
    "collapsed": true
   },
   "outputs": [],
   "source": [
    "# if we want to use it as a feature selector\n",
    "model = SelectFromModel(lasso, prefit=True)\n",
    "lasso_X = model.transform(X)\n",
    "\n",
    "new_labels = []\n",
    "features = X_df.columns\n",
    "\n",
    "for i, feature in zip(model.get_support(), features): # get headers, since they get lost after lasso\n",
    "    if i:\n",
    "        new_labels.append(feature)\n",
    "\n",
    "lasso_df = pd.DataFrame(lasso_X, columns=features)\n",
    "lasso_df['time'] = y_series"
   ]
  },
  {
   "cell_type": "markdown",
   "metadata": {},
   "source": [
    "## Random Forest"
   ]
  },
  {
   "cell_type": "code",
   "execution_count": 60,
   "metadata": {},
   "outputs": [
    {
     "name": "stdout",
     "output_type": "stream",
     "text": [
      "most important features: \n"
     ]
    },
    {
     "data": {
      "text/html": [
       "<div>\n",
       "<style scoped>\n",
       "    .dataframe tbody tr th:only-of-type {\n",
       "        vertical-align: middle;\n",
       "    }\n",
       "\n",
       "    .dataframe tbody tr th {\n",
       "        vertical-align: top;\n",
       "    }\n",
       "\n",
       "    .dataframe thead th {\n",
       "        text-align: right;\n",
       "    }\n",
       "</style>\n",
       "<table border=\"1\" class=\"dataframe\">\n",
       "  <thead>\n",
       "    <tr style=\"text-align: right;\">\n",
       "      <th></th>\n",
       "      <th>gcAlg</th>\n",
       "      <th>driverHeap</th>\n",
       "      <th>execHeap</th>\n",
       "      <th>numCores</th>\n",
       "      <th>ramSize</th>\n",
       "      <th>dataSize</th>\n",
       "    </tr>\n",
       "  </thead>\n",
       "  <tbody>\n",
       "    <tr>\n",
       "      <th>0</th>\n",
       "      <td>0.874584</td>\n",
       "      <td>0.052343</td>\n",
       "      <td>0.018159</td>\n",
       "      <td>0.029641</td>\n",
       "      <td>0.010825</td>\n",
       "      <td>0.014448</td>\n",
       "    </tr>\n",
       "  </tbody>\n",
       "</table>\n",
       "</div>"
      ],
      "text/plain": [
       "      gcAlg  driverHeap  execHeap  numCores   ramSize  dataSize\n",
       "0  0.874584    0.052343  0.018159  0.029641  0.010825  0.014448"
      ]
     },
     "execution_count": 60,
     "metadata": {},
     "output_type": "execute_result"
    }
   ],
   "source": [
    "# https://scikit-learn.org/stable/modules/generated/sklearn.ensemble.RandomForestRegressor.html\n",
    "rf = RandomForestRegressor(random_state=rs)\n",
    "rf.fit(X_df, y_series)\n",
    "\n",
    "s = pd.DataFrame((rf.feature_importances_))\n",
    "s = s.T\n",
    "s.columns = X_df.columns\n",
    "\n",
    "s"
   ]
  },
  {
   "cell_type": "code",
   "execution_count": 99,
   "metadata": {},
   "outputs": [
    {
     "data": {
      "text/plain": [
       "array([141.13635051,  34.28200866,  99.31718274,  67.44845087,\n",
       "        67.64626468,  73.0295003 ,  71.79153895,  43.58297522,\n",
       "        21.73429102,  37.41333565,  42.06728991,  84.60223157,\n",
       "        18.27991714, 110.62099489,  15.95942657,   8.99019717,\n",
       "        20.46391465,  49.1765168 , 106.44734451,  32.80759559])"
      ]
     },
     "execution_count": 99,
     "metadata": {},
     "output_type": "execute_result"
    }
   ],
   "source": [
    "y_pred_rf = rf.predict(X_test)\n",
    "y_pred_rf"
   ]
  },
  {
   "cell_type": "code",
   "execution_count": 100,
   "metadata": {},
   "outputs": [
    {
     "data": {
      "text/plain": [
       "2299.0120544496094"
      ]
     },
     "execution_count": 100,
     "metadata": {},
     "output_type": "execute_result"
    }
   ],
   "source": [
    "mean_squared_error(y_test, y_pred_rf)"
   ]
  }
 ],
 "metadata": {
  "kernelspec": {
   "display_name": "Python 3",
   "language": "python",
   "name": "python3"
  },
  "language_info": {
   "codemirror_mode": {
    "name": "ipython",
    "version": 3
   },
   "file_extension": ".py",
   "mimetype": "text/x-python",
   "name": "python",
   "nbconvert_exporter": "python",
   "pygments_lexer": "ipython3",
   "version": "3.6.0"
  }
 },
 "nbformat": 4,
 "nbformat_minor": 2
}
